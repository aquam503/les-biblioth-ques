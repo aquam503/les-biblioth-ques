{
 "cells": [
  {
   "attachments": {},
   "cell_type": "markdown",
   "metadata": {},
   "source": [
    "## *Compte Rendu du Numpy*"
   ]
  },
  {
   "attachments": {},
   "cell_type": "markdown",
   "metadata": {},
   "source": [
    "*On va importer les librairies numpy et time et la fonction log du module math*"
   ]
  },
  {
   "cell_type": "code",
   "execution_count": 1,
   "metadata": {},
   "outputs": [],
   "source": [
    "import numpy as np\n",
    "import time\n",
    "from math import log"
   ]
  },
  {
   "attachments": {},
   "cell_type": "markdown",
   "metadata": {},
   "source": [
    "### Vectorisation"
   ]
  },
  {
   "attachments": {},
   "cell_type": "markdown",
   "metadata": {},
   "source": [
    "* En python normal, cela se ferait élément par élément en utilisant quelque\n",
    "chose comme une boucle for, donc quatre calculs l'un après l'autre. Si\n",
    "chaque calcul prend 1 seconde, ce serait 4 secondes pour terminer le calcul.\n",
    "\n",
    "* Cependant, numpy multipliera en fait deux vecteurs ensemble [2,2,2,2] et\n",
    "[2,4,6,8](numpy \"étire\" la valeur scalaire 2 en un vecteur en utilisant\n",
    "quelque chose appelé diffusion. Chacun des quatre calculs distincts est\n",
    "effectué simultanément en parallèle. \n",
    "Donc en termes de temps, le calcul est réalisé en 1 seconde (chaque calcul\n",
    "prend 1 seconde, mais ils sont tous réalisés en même temps).\n",
    "\n",
    "* Une quadruple amélioration théorique de la vitesse (une forme de traitement parallèle).\n",
    "\n",
    "* Sachez simplement que:\n",
    "   * la vectorisation n'est pas illimitée et dépend du matériel\n",
    "   * La vectorisation n'est pas la seule forme de parallélisation"
   ]
  },
  {
   "attachments": {},
   "cell_type": "markdown",
   "metadata": {},
   "source": [
    "#### Test de rapidité"
   ]
  },
  {
   "attachments": {},
   "cell_type": "markdown",
   "metadata": {},
   "source": [
    "*Les structures de Numpy sont très rapides dans la manipulation \n",
    "des données de taille très large puisque la bibliothèque s'appuie\n",
    "sur le langage C*"
   ]
  },
  {
   "cell_type": "code",
   "execution_count": 2,
   "metadata": {},
   "outputs": [],
   "source": [
    "#Définition d'une structure Numpy\n",
    "my_arr = np.arange (1000000)\n",
    "#Définition d'une structure Native\n",
    "my_list=list(range (1000000))"
   ]
  },
  {
   "cell_type": "code",
   "execution_count": 3,
   "metadata": {},
   "outputs": [
    {
     "name": "stdout",
     "output_type": "stream",
     "text": [
      "--- 0.015990734100341797 Numpy seconds ---\n",
      "--- 0.6946871280670166 Native seconds ---\n"
     ]
    }
   ],
   "source": [
    "#Temps d'exécution du 10*calcul du double d'une structure Numpy\n",
    "start_time = time.time()\n",
    "for _ in range (10): my_arr2 = my_arr * 2\n",
    "print(\"--- %s Numpy seconds ---\" % (time.time() - start_time))\n",
    "#Temps d'exécution du 10*calcul du double d'une structure Native\n",
    "start_time = time.time()\n",
    "for _ in range (10): my_list2 = [x * 2 for x in my_list]\n",
    "print(\"--- %s Native seconds ---\" % (time.time() - start_time))"
   ]
  },
  {
   "cell_type": "code",
   "execution_count": 4,
   "metadata": {},
   "outputs": [],
   "source": [
    "#Définition d'une structure Numpy\n",
    "my_arr = np.array([[1, 2, 3, 4]])\n",
    "#Définition d'une structure Native\n",
    "my_list=list([1, 2, 3, 4])"
   ]
  },
  {
   "cell_type": "code",
   "execution_count": 5,
   "metadata": {},
   "outputs": [
    {
     "name": "stdout",
     "output_type": "stream",
     "text": [
      "--- 0.0 Vectorization Numpy seconds ---\n",
      "--- 0.014858007431030273 No Vectorization Native seconds ---\n"
     ]
    }
   ],
   "source": [
    "#Temps d'exécution du double en Numpy\n",
    "start_time = time.time()\n",
    "my_arr2 = my_arr * 2\n",
    "print(\"--- %s Vectorization Numpy seconds ---\" % (time.time() - start_time))\n",
    "#Temps d'exécution du double en Native\n",
    "start_time = time.time()\n",
    "my_list2 = [x * 2 for x in my_list]\n",
    "print(\"--- %s No Vectorization Native seconds ---\" % (time.time() - start_time))"
   ]
  },
  {
   "attachments": {},
   "cell_type": "markdown",
   "metadata": {},
   "source": [
    "Pour savoir la version numpy on exécute la commande :"
   ]
  },
  {
   "cell_type": "code",
   "execution_count": 6,
   "metadata": {},
   "outputs": [
    {
     "name": "stdout",
     "output_type": "stream",
     "text": [
      "1.23.5\n"
     ]
    }
   ],
   "source": [
    "print(np.__version__)"
   ]
  },
  {
   "attachments": {},
   "cell_type": "markdown",
   "metadata": {},
   "source": [
    "Création de ndarray à partir de d'autres structures natives :\n",
    "\n",
    "Pour créer un ndarray à partir d'une liste on utilise la méthode np.arrray()."
   ]
  },
  {
   "cell_type": "code",
   "execution_count": 7,
   "metadata": {},
   "outputs": [
    {
     "name": "stdout",
     "output_type": "stream",
     "text": [
      "[1 2 3 4 5]\n"
     ]
    }
   ],
   "source": [
    "arrfromlist = np.array([1, 2, 3, 4, 5])\n",
    "#Afficher un ndarray\n",
    "print(arrfromlist)"
   ]
  },
  {
   "attachments": {},
   "cell_type": "markdown",
   "metadata": {},
   "source": [
    "On vérifie le type ndarray :"
   ]
  },
  {
   "cell_type": "code",
   "execution_count": 8,
   "metadata": {},
   "outputs": [
    {
     "name": "stdout",
     "output_type": "stream",
     "text": [
      "<class 'numpy.ndarray'>\n"
     ]
    }
   ],
   "source": [
    "print(type(arrfromlist))"
   ]
  },
  {
   "attachments": {},
   "cell_type": "markdown",
   "metadata": {},
   "source": [
    "Créer un ndarray à partir d'un tuple : en utilisant la méthode np.array()"
   ]
  },
  {
   "cell_type": "code",
   "execution_count": 9,
   "metadata": {},
   "outputs": [
    {
     "name": "stdout",
     "output_type": "stream",
     "text": [
      "['car' 'plane' 'truck']\n"
     ]
    }
   ],
   "source": [
    "arrfromtuple = np.array(('car', 'plane', 'truck'))\n",
    "print(arrfromtuple)"
   ]
  },
  {
   "attachments": {},
   "cell_type": "markdown",
   "metadata": {},
   "source": [
    "Créer un ndarray à partir d'un set : en utilisant np.array()"
   ]
  },
  {
   "cell_type": "code",
   "execution_count": 10,
   "metadata": {},
   "outputs": [
    {
     "name": "stdout",
     "output_type": "stream",
     "text": [
      "{1, 2, 3, 4, 5}\n"
     ]
    }
   ],
   "source": [
    "arrfromset = np.array({1, 2, 3, 4, 5})\n",
    "#Afficher un ndarray\n",
    "print(arrfromset)"
   ]
  },
  {
   "cell_type": "code",
   "execution_count": 11,
   "metadata": {},
   "outputs": [
    {
     "name": "stdout",
     "output_type": "stream",
     "text": [
      "<class 'numpy.ndarray'>\n"
     ]
    }
   ],
   "source": [
    "#vérifier le type ndarray!\n",
    "print(type(arrfromset))"
   ]
  },
  {
   "attachments": {},
   "cell_type": "markdown",
   "metadata": {},
   "source": [
    "Créer un ndarray à partir d'un range : np.array(range(n))"
   ]
  },
  {
   "cell_type": "code",
   "execution_count": 12,
   "metadata": {},
   "outputs": [
    {
     "name": "stdout",
     "output_type": "stream",
     "text": [
      "[0 1 2 3 4 5]\n"
     ]
    }
   ],
   "source": [
    "arrfromrange = np.array(range(6))\n",
    "print(arrfromrange)"
   ]
  },
  {
   "attachments": {},
   "cell_type": "markdown",
   "metadata": {},
   "source": [
    "ou vous pouvez faire : arrfromrange= np.arange(0, 6, 1)"
   ]
  },
  {
   "attachments": {},
   "cell_type": "markdown",
   "metadata": {},
   "source": [
    "##### Création de tableaux avec des valeurs spécifiques"
   ]
  },
  {
   "attachments": {},
   "cell_type": "markdown",
   "metadata": {},
   "source": [
    "##### np.ones"
   ]
  },
  {
   "cell_type": "code",
   "execution_count": 13,
   "metadata": {},
   "outputs": [
    {
     "name": "stdout",
     "output_type": "stream",
     "text": [
      "[[1. 1.]\n",
      " [1. 1.]\n",
      " [1. 1.]\n",
      " [1. 1.]\n",
      " [1. 1.]\n",
      " [1. 1.]\n",
      " [1. 1.]\n",
      " [1. 1.]\n",
      " [1. 1.]\n",
      " [1. 1.]]\n"
     ]
    }
   ],
   "source": [
    "#10 couples de 1\n",
    "ones = np.ones((10, 2))\n",
    "print(ones)"
   ]
  },
  {
   "attachments": {},
   "cell_type": "markdown",
   "metadata": {},
   "source": [
    "np.zeros((m, l, c)) : donne array avec m matrices dont chaque matrice de dimension l*c;les élèments sont tous nuls."
   ]
  },
  {
   "cell_type": "code",
   "execution_count": 14,
   "metadata": {},
   "outputs": [
    {
     "name": "stdout",
     "output_type": "stream",
     "text": [
      "[[[0. 0. 0.]\n",
      "  [0. 0. 0.]\n",
      "  [0. 0. 0.]]\n",
      "\n",
      " [[0. 0. 0.]\n",
      "  [0. 0. 0.]\n",
      "  [0. 0. 0.]]\n",
      "\n",
      " [[0. 0. 0.]\n",
      "  [0. 0. 0.]\n",
      "  [0. 0. 0.]]\n",
      "\n",
      " [[0. 0. 0.]\n",
      "  [0. 0. 0.]\n",
      "  [0. 0. 0.]]\n",
      "\n",
      " [[0. 0. 0.]\n",
      "  [0. 0. 0.]\n",
      "  [0. 0. 0.]]]\n"
     ]
    }
   ],
   "source": [
    "#5 matrices ; chaque matrice est de 3 lignes et 3 colonnes : notre array remplie de zéros. \n",
    "zeros = np.zeros((5, 3, 3))\n",
    "print(zeros)"
   ]
  },
  {
   "attachments": {},
   "cell_type": "markdown",
   "metadata": {},
   "source": [
    "##### np.random.randint"
   ]
  },
  {
   "attachments": {},
   "cell_type": "markdown",
   "metadata": {},
   "source": [
    "np.random.randint(m, size=(l, c)) : array de l lignes et c colonnes dont les élèments compris entre 0 et m-1."
   ]
  },
  {
   "cell_type": "code",
   "execution_count": 15,
   "metadata": {},
   "outputs": [
    {
     "name": "stdout",
     "output_type": "stream",
     "text": [
      "[[6 1 8]\n",
      " [2 8 0]\n",
      " [3 6 8]\n",
      " [6 2 7]\n",
      " [1 9 0]]\n"
     ]
    }
   ],
   "source": [
    "random_array = np.random.randint(10, size=(5, 3))\n",
    "print(random_array)"
   ]
  },
  {
   "attachments": {},
   "cell_type": "markdown",
   "metadata": {},
   "source": [
    "##### np.random.random"
   ]
  },
  {
   "attachments": {},
   "cell_type": "markdown",
   "metadata": {},
   "source": [
    "np.random.random((l, c)) : array de l lignes et c colonnes dont les élèments compris entre 0 et 1 ."
   ]
  },
  {
   "cell_type": "code",
   "execution_count": 16,
   "metadata": {},
   "outputs": [
    {
     "name": "stdout",
     "output_type": "stream",
     "text": [
      "[[0.75477808 0.25315391 0.67667975]\n",
      " [0.90845134 0.09821001 0.90698433]\n",
      " [0.21212484 0.82807691 0.45136604]\n",
      " [0.75186567 0.25074333 0.07291627]\n",
      " [0.96367078 0.31410802 0.25097604]]\n"
     ]
    }
   ],
   "source": [
    "# Random 0-1 array\n",
    "random_array2 =np.random.random((5, 3))\n",
    "print(random_array2)"
   ]
  },
  {
   "attachments": {},
   "cell_type": "markdown",
   "metadata": {},
   "source": [
    "Vous pouvez utiliser aussi np.random.rand(l,c)."
   ]
  },
  {
   "cell_type": "code",
   "execution_count": 17,
   "metadata": {},
   "outputs": [
    {
     "data": {
      "text/plain": [
       "array([[0.53401716, 0.30594292, 0.4104454 ],\n",
       "       [0.36061071, 0.73757211, 0.04780169],\n",
       "       [0.88113518, 0.27196328, 0.49220417],\n",
       "       [0.75696233, 0.96257376, 0.54701518],\n",
       "       [0.0473412 , 0.31740945, 0.68698769]])"
      ]
     },
     "execution_count": 17,
     "metadata": {},
     "output_type": "execute_result"
    }
   ],
   "source": [
    "random_array2 =np.random.rand(5, 3)\n",
    "random_array2"
   ]
  },
  {
   "attachments": {},
   "cell_type": "markdown",
   "metadata": {},
   "source": [
    "##### np.seed()"
   ]
  },
  {
   "attachments": {},
   "cell_type": "markdown",
   "metadata": {},
   "source": [
    "On l'uiliser pour avoir random array avec le même ensemble très pratique dans le cas du training and test data.\n",
    "\n",
    "Re-exécuter la cellule en dessous donne le meme résultat."
   ]
  },
  {
   "cell_type": "code",
   "execution_count": 18,
   "metadata": {},
   "outputs": [
    {
     "name": "stdout",
     "output_type": "stream",
     "text": [
      "[[5 0 3]\n",
      " [3 7 9]\n",
      " [3 5 2]\n",
      " [4 7 6]\n",
      " [8 8 1]]\n",
      "[[5 0 3]\n",
      " [3 7 9]\n",
      " [3 5 2]\n",
      " [4 7 6]\n",
      " [8 8 1]]\n"
     ]
    }
   ],
   "source": [
    "np.random.seed(0)\n",
    "random_array=np.random.randint(10, size=(5, 3))\n",
    "np.random.seed(0)\n",
    "random_array2=np.random.randint(10, size=(5, 3))\n",
    "print(random_array)\n",
    "print(random_array2)"
   ]
  },
  {
   "attachments": {},
   "cell_type": "markdown",
   "metadata": {},
   "source": [
    "### Dimensions de ndarray"
   ]
  },
  {
   "attachments": {},
   "cell_type": "markdown",
   "metadata": {},
   "source": [
    "Créer un ndarray arr0d de dimension=simple=0 contenat un seul élèment."
   ]
  },
  {
   "cell_type": "code",
   "execution_count": 19,
   "metadata": {},
   "outputs": [
    {
     "name": "stdout",
     "output_type": "stream",
     "text": [
      "10\n",
      "0\n"
     ]
    }
   ],
   "source": [
    "arr0d = np.array(10)\n",
    "#Afficher un ndarray\n",
    "print(arr0d)\n",
    "#Afficher la dimension\n",
    "print(arr0d.ndim)"
   ]
  },
  {
   "attachments": {},
   "cell_type": "markdown",
   "metadata": {},
   "source": [
    "Créer un ndarray 1 dimension"
   ]
  },
  {
   "cell_type": "code",
   "execution_count": 20,
   "metadata": {},
   "outputs": [
    {
     "name": "stdout",
     "output_type": "stream",
     "text": [
      "[10 11]\n",
      "1\n"
     ]
    }
   ],
   "source": [
    "arr1d = np.array([10,11])\n",
    "#Afficher un ndarray\n",
    "print(arr1d)\n",
    "#Afficher la dimension\n",
    "print(arr1d.ndim)"
   ]
  },
  {
   "attachments": {},
   "cell_type": "markdown",
   "metadata": {},
   "source": [
    "Créer un ndarray 2 dimensions"
   ]
  },
  {
   "cell_type": "code",
   "execution_count": 21,
   "metadata": {},
   "outputs": [
    {
     "name": "stdout",
     "output_type": "stream",
     "text": [
      "[[10 11]\n",
      " [12 13]]\n",
      "2\n"
     ]
    }
   ],
   "source": [
    "arr2d = np.array([[10,11],[12,13]])\n",
    "#Afficher un ndarray\n",
    "print(arr2d)\n",
    "#Afficher la dimension\n",
    "print(arr2d.ndim)"
   ]
  },
  {
   "attachments": {},
   "cell_type": "markdown",
   "metadata": {},
   "source": [
    "Créer un ndarray 3 dimensions"
   ]
  },
  {
   "cell_type": "code",
   "execution_count": 22,
   "metadata": {},
   "outputs": [
    {
     "name": "stdout",
     "output_type": "stream",
     "text": [
      "[[[ 1  2  3]\n",
      "  [ 4  5  6]]\n",
      "\n",
      " [[ 7  8  9]\n",
      "  [10 11 12]]]\n",
      "3\n"
     ]
    }
   ],
   "source": [
    "arr3d = np.array([[[1, 2, 3], [4, 5, 6]], [[7, 8, 9], [10, 11, 12]]])\n",
    "#Afficher un ndarray\n",
    "print(arr3d)\n",
    "#Afficher la dimension\n",
    "print(arr3d.ndim)"
   ]
  },
  {
   "attachments": {},
   "cell_type": "markdown",
   "metadata": {},
   "source": [
    "Créer un ndarray multi dimensions"
   ]
  },
  {
   "cell_type": "code",
   "execution_count": 23,
   "metadata": {},
   "outputs": [
    {
     "name": "stdout",
     "output_type": "stream",
     "text": [
      "[[[[[1 2 3 4]]]]]\n",
      "number of dimensions : 5\n"
     ]
    }
   ],
   "source": [
    "arr5d = np.array([1, 2, 3, 4], ndmin=5)\n",
    "#Afficher un ndarray\n",
    "print(arr5d)\n",
    "#Afficher la dimension\n",
    "print('number of dimensions :', arr5d.ndim)"
   ]
  },
  {
   "attachments": {},
   "cell_type": "markdown",
   "metadata": {},
   "source": [
    "#### Accès à un élément"
   ]
  },
  {
   "cell_type": "code",
   "execution_count": 24,
   "metadata": {},
   "outputs": [
    {
     "name": "stdout",
     "output_type": "stream",
     "text": [
      "1\n",
      "2\n"
     ]
    }
   ],
   "source": [
    "#1er élément d'un ndarray 1d\n",
    "print(arrfromlist[0])\n",
    "#2ème élément d'un ndarray 1d\n",
    "print(arrfromlist[1])"
   ]
  },
  {
   "cell_type": "code",
   "execution_count": 25,
   "metadata": {},
   "outputs": [
    {
     "name": "stdout",
     "output_type": "stream",
     "text": [
      "11\n",
      "[10 11]\n"
     ]
    }
   ],
   "source": [
    "#ligne 0 colonne 1 d'un ndarray 2d\n",
    "print(arr2d[0,1])\n",
    "#ligne 2 colonne 0 d'un ndarray 2d\n",
    "#print(arr2d[2,0])#index 2 is out of bounds for axis 0 with size 2\n",
    "#ligne 0 d'un ndarray 2d , il s'agit de la première ligne.\n",
    "print(arr2d[0])"
   ]
  },
  {
   "cell_type": "code",
   "execution_count": 26,
   "metadata": {},
   "outputs": [
    {
     "name": "stdout",
     "output_type": "stream",
     "text": [
      "6\n",
      "6\n",
      "[[1 2 3]\n",
      " [4 5 6]]\n",
      "[4 5 6]\n"
     ]
    }
   ],
   "source": [
    "#Troisième élément du deuxième tableau du premier tableau \n",
    "print(arr3d[0, 1, 2])\n",
    "#ou\n",
    "print(arr3d[-2, -1, -1])\n",
    "#1ère matrice\n",
    "print(arr3d[0])\n",
    "#2ème ligne de la 1ère matrice\n",
    "print(arr3d[0,1])"
   ]
  },
  {
   "attachments": {},
   "cell_type": "markdown",
   "metadata": {},
   "source": [
    "#### Nombre d'éléments d'un ndarray"
   ]
  },
  {
   "cell_type": "code",
   "execution_count": 27,
   "metadata": {},
   "outputs": [
    {
     "name": "stdout",
     "output_type": "stream",
     "text": [
      "1\n",
      "2\n",
      "4\n",
      "12\n"
     ]
    }
   ],
   "source": [
    "print(arr0d.size)\n",
    "print(arr1d.size)\n",
    "print(arr2d.size)\n",
    "print(arr3d.size)"
   ]
  },
  {
   "attachments": {},
   "cell_type": "markdown",
   "metadata": {},
   "source": [
    "### Slicing"
   ]
  },
  {
   "attachments": {},
   "cell_type": "markdown",
   "metadata": {},
   "source": [
    "* [start=0:end:step=1] end est exclu"
   ]
  },
  {
   "cell_type": "code",
   "execution_count": 28,
   "metadata": {},
   "outputs": [
    {
     "name": "stdout",
     "output_type": "stream",
     "text": [
      "[2 3]\n",
      "[1 2 3 4]\n",
      "[3 4]\n"
     ]
    }
   ],
   "source": [
    "#2ème et 3ème éléments\n",
    "print(arrfromlist[1:3])\n",
    "#quatres premiers éléments\n",
    "print(arrfromlist[:4])\n",
    "#deux avants derniers éléments\n",
    "print(arrfromlist[-3:-1])"
   ]
  },
  {
   "cell_type": "code",
   "execution_count": 29,
   "metadata": {},
   "outputs": [
    {
     "name": "stdout",
     "output_type": "stream",
     "text": [
      "[12 13]\n",
      "[12 13]\n",
      "[10 12]\n",
      "[[10]]\n"
     ]
    }
   ],
   "source": [
    "#Récupération de la deuxième ligne\n",
    "print(arr2d[1, 0:2])\n",
    "#ou\n",
    "print(arr2d[1, :])\n",
    "#Récupération de la première colonne\n",
    "print(arr2d[:, 0])\n",
    "#Récupération du premier élement de la ligne 0 colonne 0\n",
    "print(arr2d[-2:-1,-2:-1])"
   ]
  },
  {
   "cell_type": "code",
   "execution_count": 30,
   "metadata": {},
   "outputs": [
    {
     "name": "stdout",
     "output_type": "stream",
     "text": [
      "[[[ 1  2]\n",
      "  [ 4  5]]\n",
      "\n",
      " [[ 7  8]\n",
      "  [10 11]]]\n"
     ]
    }
   ],
   "source": [
    "#Récupération des deux premières valeurs des deux premières lignes des deux premiers tableaux\n",
    "print(arr3d[:2, :2, :2])"
   ]
  },
  {
   "cell_type": "code",
   "execution_count": 31,
   "metadata": {},
   "outputs": [
    {
     "name": "stdout",
     "output_type": "stream",
     "text": [
      "int32\n",
      "<U5\n"
     ]
    }
   ],
   "source": [
    "#Type i\n",
    "print(arrfromlist.dtype)\n",
    "#Type U\n",
    "print(arrfromtuple.dtype)"
   ]
  },
  {
   "cell_type": "code",
   "execution_count": 32,
   "metadata": {},
   "outputs": [
    {
     "name": "stdout",
     "output_type": "stream",
     "text": [
      "|S1\n"
     ]
    }
   ],
   "source": [
    "#Création d'un tableau string\n",
    "arrstring = np.array([1, 2, 3, 4], dtype='S')\n",
    "print(arrstring.dtype)"
   ]
  },
  {
   "cell_type": "code",
   "execution_count": 33,
   "metadata": {},
   "outputs": [
    {
     "name": "stdout",
     "output_type": "stream",
     "text": [
      "|S1\n"
     ]
    }
   ],
   "source": [
    "#ou\n",
    "arrstring = np.array([1, 2, 3, 4], dtype='S1')\n",
    "print(arrstring.dtype)"
   ]
  },
  {
   "cell_type": "code",
   "execution_count": 34,
   "metadata": {},
   "outputs": [
    {
     "name": "stdout",
     "output_type": "stream",
     "text": [
      "[1 2 3]\n",
      "int32\n"
     ]
    }
   ],
   "source": [
    "#valueerror\n",
    "#arrvalueerror = np.array(['a', '2', '3'], dtype='i')\n",
    "#Conversion de type d'un tableau existant\n",
    "#La astype(type)crée une copie du tableau.\n",
    "#Le type de données peut être spécifié à l'aide d'une chaîne, comme 'f'pour float\n",
    "arrtoconvert = np.array([1.1, 2.1, 3.1])\n",
    "arrconveted = arrtoconvert.astype('i')\n",
    "print(arrconveted)\n",
    "print(arrconveted.dtype)"
   ]
  },
  {
   "attachments": {},
   "cell_type": "markdown",
   "metadata": {},
   "source": [
    "Copie ou vue :\n",
    "\n",
    "La copie recrée un autre tableau\n",
    "\n",
    "Alors que la vue ne crée qu'une référence"
   ]
  },
  {
   "cell_type": "code",
   "execution_count": 35,
   "metadata": {},
   "outputs": [
    {
     "name": "stdout",
     "output_type": "stream",
     "text": [
      "[1 2 3 4 5]\n",
      "[42  2  3  4  5]\n",
      "[40  2  3  4  5]\n",
      "[40  2  3  4  5]\n"
     ]
    }
   ],
   "source": [
    "#Créer une copie\n",
    "copie = arrfromlist.copy()\n",
    "copie[0] = 42\n",
    "print(arrfromlist)\n",
    "print(copie)\n",
    "#créer une vue\n",
    "view = arrfromlist.view()\n",
    "view[0] = 40\n",
    "print(arrfromlist)\n",
    "print(view)"
   ]
  },
  {
   "attachments": {},
   "cell_type": "markdown",
   "metadata": {},
   "source": [
    "* Savoir si le tableau est une vue\n",
    "  * La copie renvoi None avec base attribute.\n",
    "  * La vue renvoie le tableau d'origine."
   ]
  },
  {
   "cell_type": "code",
   "execution_count": 36,
   "metadata": {},
   "outputs": [
    {
     "name": "stdout",
     "output_type": "stream",
     "text": [
      "None\n",
      "[40  2  3  4  5]\n"
     ]
    }
   ],
   "source": [
    "print(copie.base)\n",
    "print(view.base)"
   ]
  },
  {
   "attachments": {},
   "cell_type": "markdown",
   "metadata": {},
   "source": [
    "La forme d'un tableau est le nombre d'éléments dans chaque dimension."
   ]
  },
  {
   "cell_type": "code",
   "execution_count": 37,
   "metadata": {},
   "outputs": [
    {
     "name": "stdout",
     "output_type": "stream",
     "text": [
      "()\n",
      "(2,)\n",
      "(2, 2)\n",
      "(2, 2, 3)\n",
      "(1, 1, 1, 1, 4)\n"
     ]
    }
   ],
   "source": [
    "print(arr0d.shape)\n",
    "print(arr1d.shape)\n",
    "print(arr2d.shape)\n",
    "print(arr3d.shape)\n",
    "print(arr5d.shape)"
   ]
  },
  {
   "attachments": {},
   "cell_type": "markdown",
   "metadata": {},
   "source": [
    "En remodelant, nous pouvons ajouter ou supprimer des dimensions ou \n",
    "modifier le nombre d'éléments dans chaque dimension.\n",
    "\n",
    "les éléments nécessaires au remodelage sont égaux dans les deux formes.\n"
   ]
  },
  {
   "cell_type": "code",
   "execution_count": 38,
   "metadata": {},
   "outputs": [
    {
     "name": "stdout",
     "output_type": "stream",
     "text": [
      "[[ 1  2  3]\n",
      " [ 4  5  6]\n",
      " [ 7  8  9]\n",
      " [10 11 12]]\n"
     ]
    }
   ],
   "source": [
    "#1d à 2d\n",
    "arr1dtoreshape = np.array([1, 2, 3, 4, 5, 6, 7, 8, 9, 10, 11, 12])\n",
    "arr2dreshaped = arr1dtoreshape.reshape(4, 3)\n",
    "print(arr2dreshaped)"
   ]
  },
  {
   "cell_type": "code",
   "execution_count": 39,
   "metadata": {},
   "outputs": [
    {
     "name": "stdout",
     "output_type": "stream",
     "text": [
      "[[[ 1  2  3]\n",
      "  [ 4  5  6]]\n",
      "\n",
      " [[ 7  8  9]\n",
      "  [10 11 12]]]\n",
      "[[[[ 1  2  3]]\n",
      "\n",
      "  [[ 4  5  6]]]\n",
      "\n",
      "\n",
      " [[[ 7  8  9]]\n",
      "\n",
      "  [[10 11 12]]]]\n"
     ]
    }
   ],
   "source": [
    "#1d à 3d\n",
    "arr3dreshaped = arr1dtoreshape.reshape(2,2, 3)\n",
    "print(arr3dreshaped)\n",
    "#dimension inconnue Passez -1comme valeur et NumPy calculera ce nombre pour vous.\n",
    "#Remarque : Nous ne pouvons pas passer -1à plus d'une dimension.\n",
    "arr4dreshaped = arr1dtoreshape.reshape(2,2,1,-1 )\n",
    "print(arr4dreshaped)"
   ]
  },
  {
   "attachments": {},
   "cell_type": "markdown",
   "metadata": {},
   "source": [
    "**Aplatir un tableau signifie convertir un tableau multidimensionnel en un tableau 1D.**"
   ]
  },
  {
   "attachments": {},
   "cell_type": "markdown",
   "metadata": {},
   "source": [
    "**Nous pouvons utiliser reshape(-1) ou reshape(nbr_ets) pour le faire.**"
   ]
  },
  {
   "cell_type": "code",
   "execution_count": 40,
   "metadata": {},
   "outputs": [
    {
     "name": "stdout",
     "output_type": "stream",
     "text": [
      "[ 1  2  3  4  5  6  7  8  9 10 11 12]\n"
     ]
    }
   ],
   "source": [
    "arr1dback=arr4dreshaped.reshape(-1)\n",
    "print(arr1dback)"
   ]
  },
  {
   "attachments": {},
   "cell_type": "markdown",
   "metadata": {},
   "source": [
    "**Parcourir un tableau** "
   ]
  },
  {
   "cell_type": "code",
   "execution_count": 41,
   "metadata": {},
   "outputs": [
    {
     "name": "stdout",
     "output_type": "stream",
     "text": [
      "10\n",
      "11\n"
     ]
    }
   ],
   "source": [
    "#1d\n",
    "for x in arr1d:\n",
    "  print(x)"
   ]
  },
  {
   "cell_type": "code",
   "execution_count": 42,
   "metadata": {},
   "outputs": [
    {
     "name": "stdout",
     "output_type": "stream",
     "text": [
      "[10 11]\n",
      "[12 13]\n",
      "10\n",
      "11\n",
      "12\n",
      "13\n"
     ]
    }
   ],
   "source": [
    "#2d renvoie les couples\n",
    "for x in arr2d:\n",
    "  print(x)\n",
    "#2d renvoie les individus\n",
    "#Pour renvoyer les individus, nous devons itérer les tableaux dans chaque dimension\n",
    "for x in arr2d:\n",
    "    for y in x:\n",
    "        print(y)"
   ]
  },
  {
   "cell_type": "code",
   "execution_count": 43,
   "metadata": {},
   "outputs": [
    {
     "name": "stdout",
     "output_type": "stream",
     "text": [
      "10\n",
      "11\n",
      "12\n",
      "13\n"
     ]
    }
   ],
   "source": [
    "#ou utiliser tout simplement\n",
    "for x in arr2d.reshape(-1):\n",
    "    print(x)"
   ]
  },
  {
   "attachments": {},
   "cell_type": "markdown",
   "metadata": {},
   "source": [
    "### Jointure"
   ]
  },
  {
   "attachments": {},
   "cell_type": "markdown",
   "metadata": {},
   "source": [
    "Avec l'intermédiaire d'une fonction concatenate(arr1,arr2,axe_jointure)\n",
    "\n",
    "Les deux tableaux doivent avoir la même dimension"
   ]
  },
  {
   "cell_type": "code",
   "execution_count": 44,
   "metadata": {},
   "outputs": [
    {
     "name": "stdout",
     "output_type": "stream",
     "text": [
      "[1 2 3 4 5 6]\n"
     ]
    }
   ],
   "source": [
    "#sans axe :le seul axe présent\n",
    "arr1 = np.array([1, 2, 3])\n",
    "arr2 = np.array([4, 5, 6])\n",
    "arrjoined = np.concatenate((arr1, arr2))\n",
    "print(arrjoined)"
   ]
  },
  {
   "cell_type": "code",
   "execution_count": 45,
   "metadata": {},
   "outputs": [
    {
     "name": "stdout",
     "output_type": "stream",
     "text": [
      "[[1 2]\n",
      " [3 4]\n",
      " [5 6]\n",
      " [7 8]]\n",
      "[[1 2 5 6]\n",
      " [3 4 7 8]]\n"
     ]
    }
   ],
   "source": [
    "#axe lignes\n",
    "arr1 = np.array([[1, 2], [3, 4]])\n",
    "arr2 = np.array([[5, 6], [7, 8]])\n",
    "arrjoined2d = np.concatenate((arr1, arr2), axis=0)\n",
    "print(arrjoined2d)\n",
    "#axe colonnes (ne marche si le nombre d'élements n'est pas le même ds les dexu tableaux=)\n",
    "arrjoined2d = np.concatenate((arr1, arr2), axis=1)\n",
    "print(arrjoined2d)"
   ]
  },
  {
   "attachments": {},
   "cell_type": "markdown",
   "metadata": {},
   "source": [
    "### Empilement"
   ]
  },
  {
   "attachments": {},
   "cell_type": "markdown",
   "metadata": {},
   "source": [
    "L'empilement est identique à la concaténation,\n",
    "\n",
    "la seule différence est que l'empilement se fait le long d'un nouvel axe.\n",
    "\n",
    "A l'aide de la fonction stack(stack((arr1, arr2), axis=0))\n",
    "\n",
    "L'empilement crée de nouvelles dimensions lorsqu'il se fait sur de nvx axes\n",
    "\n",
    "si l'emplilement se fait selon les anciens axes=concténation"
   ]
  },
  {
   "cell_type": "code",
   "execution_count": 46,
   "metadata": {},
   "outputs": [
    {
     "name": "stdout",
     "output_type": "stream",
     "text": [
      "[[1 4]\n",
      " [2 5]\n",
      " [3 6]]\n",
      "[[[1 5]\n",
      "  [2 6]]\n",
      "\n",
      " [[3 7]\n",
      "  [4 8]]]\n"
     ]
    }
   ],
   "source": [
    "#1d avec nouvel axe\n",
    "#on peut pas incrémenter que d'un seul axe \n",
    "arr1 = np.array([1, 2, 3])\n",
    "arr2 = np.array([4, 5, 6])\n",
    "arrstack = np.stack((arr1, arr2), axis=1)\n",
    "print(arrstack) \n",
    "#2d tester les valeurs 0, 1 et 2 \n",
    "arr1 = np.array([[1, 2], [3, 4]])\n",
    "arr2 = np.array([[5, 6], [7, 8]])\n",
    "arrstack = np.stack((arr1, arr2), axis=2)\n",
    "#arrstack = np.hstack((arr1, arr2))\n",
    "#arrstack = np.vstack((arr1, arr2))\n",
    "#arrstack = np.dstack((arr1, arr2))\n",
    "print(arrstack)"
   ]
  },
  {
   "attachments": {},
   "cell_type": "markdown",
   "metadata": {},
   "source": [
    "#### Division"
   ]
  },
  {
   "attachments": {},
   "cell_type": "markdown",
   "metadata": {},
   "source": [
    "La fonction array_split() retourne un tableau de tableaux"
   ]
  },
  {
   "cell_type": "code",
   "execution_count": 47,
   "metadata": {},
   "outputs": [
    {
     "name": "stdout",
     "output_type": "stream",
     "text": [
      "[array([1, 2]), array([3, 4]), array([5, 6])]\n",
      "[1 2]\n"
     ]
    }
   ],
   "source": [
    "arrtodivide = np.array([1, 2, 3, 4, 5, 6])\n",
    "arrdivided = np.array_split(arrtodivide, 3)\n",
    "#ajustement à partir de la fin à la différence de split() qui nécessite\n",
    "#que le nombre d'élements soit divisible par le nbre de fractions\n",
    "#arrdivided = np.array_split(arrtodivide, 4)\n",
    "print(arrdivided)\n",
    "#1er tableau\n",
    "print(arrdivided[0])"
   ]
  },
  {
   "cell_type": "code",
   "execution_count": 48,
   "metadata": {},
   "outputs": [
    {
     "name": "stdout",
     "output_type": "stream",
     "text": [
      "[array([[1, 2, 3],\n",
      "       [4, 5, 6]]), array([[ 7,  8,  9],\n",
      "       [10, 11, 12]]), array([[13, 14, 15],\n",
      "       [16, 17, 18]])]\n"
     ]
    }
   ],
   "source": [
    "#2D split\n",
    "arrtosplit = np.array([[1, 2, 3], [4, 5, 6], [7, 8, 9], [10, 11, 12], [13, 14, 15], \n",
    "[16, 17, 18]])\n",
    "arrsplited = np.array_split(arrtosplit, 3)\n",
    "print(arrsplited)"
   ]
  },
  {
   "cell_type": "code",
   "execution_count": 49,
   "metadata": {},
   "outputs": [
    {
     "name": "stdout",
     "output_type": "stream",
     "text": [
      "[array([[ 1],\n",
      "       [ 4],\n",
      "       [ 7],\n",
      "       [10],\n",
      "       [13],\n",
      "       [16]]), array([[ 2],\n",
      "       [ 5],\n",
      "       [ 8],\n",
      "       [11],\n",
      "       [14],\n",
      "       [17]]), array([[ 3],\n",
      "       [ 6],\n",
      "       [ 9],\n",
      "       [12],\n",
      "       [15],\n",
      "       [18]])]\n"
     ]
    }
   ],
   "source": [
    "#2D split selon l'axe 1\n",
    "arrsplited = np.array_split(arrtosplit, 3,axis=1)\n",
    "print(arrsplited)"
   ]
  },
  {
   "cell_type": "code",
   "execution_count": 50,
   "metadata": {},
   "outputs": [
    {
     "name": "stdout",
     "output_type": "stream",
     "text": [
      "[array([[ 1],\n",
      "       [ 4],\n",
      "       [ 7],\n",
      "       [10],\n",
      "       [13],\n",
      "       [16]]), array([[ 2],\n",
      "       [ 5],\n",
      "       [ 8],\n",
      "       [11],\n",
      "       [14],\n",
      "       [17]]), array([[ 3],\n",
      "       [ 6],\n",
      "       [ 9],\n",
      "       [12],\n",
      "       [15],\n",
      "       [18]])]\n",
      "[array([[1, 2, 3],\n",
      "       [4, 5, 6]]), array([[ 7,  8,  9],\n",
      "       [10, 11, 12]]), array([[13, 14, 15],\n",
      "       [16, 17, 18]])]\n"
     ]
    }
   ],
   "source": [
    "#hsplit\n",
    "arrsplited = np.hsplit(arrtosplit, 3)\n",
    "print(arrsplited)\n",
    "#vsplit\n",
    "arrsplited = np.vsplit(arrtosplit, 3)\n",
    "print(arrsplited)"
   ]
  },
  {
   "attachments": {},
   "cell_type": "markdown",
   "metadata": {},
   "source": [
    "#### Recherche"
   ]
  },
  {
   "attachments": {},
   "cell_type": "markdown",
   "metadata": {},
   "source": [
    "Vous pouvez rechercher une certaine valeur dans un tableau \n",
    "et renvoyer les index qui correspondent.\n",
    "\n",
    "Pour rechercher un tableau, utilisez la where()méthode."
   ]
  },
  {
   "cell_type": "code",
   "execution_count": 51,
   "metadata": {},
   "outputs": [
    {
     "name": "stdout",
     "output_type": "stream",
     "text": [
      "(array([3, 5, 6], dtype=int64),)\n",
      "(array([1, 3, 5, 6], dtype=int64),)\n"
     ]
    }
   ],
   "source": [
    "arr = np.array([1, 2, 3, 4, 5, 4, 4])\n",
    "x = np.where(arr == 4)\n",
    "print(x)\n",
    "#tous les index des valeurs paires\n",
    "x = np.where(arr%2 == 0)\n",
    "print(x)"
   ]
  },
  {
   "cell_type": "code",
   "execution_count": 52,
   "metadata": {},
   "outputs": [
    {
     "name": "stdout",
     "output_type": "stream",
     "text": [
      "1\n",
      "2\n",
      "[0 1]\n"
     ]
    }
   ],
   "source": [
    "#Il existe une méthode appelée searchsorted()qui effectue une recherche binaire\n",
    "#dans le tableau et renvoie \n",
    "#l'index où la valeur spécifiée serait insérée pour maintenir l'ordre de recherche.\n",
    "arr = np.array([6, 7, 8, 9])\n",
    "x = np.searchsorted(arr, 7)\n",
    "print(x)\n",
    "x = np.searchsorted(arr, 7, side='right')\n",
    "print(x)\n",
    "#recherche de plusieurs éléments\n",
    "x = np.searchsorted(arr,[4,7])\n",
    "print(x)"
   ]
  },
  {
   "attachments": {},
   "cell_type": "markdown",
   "metadata": {},
   "source": [
    "#### Tri"
   ]
  },
  {
   "attachments": {},
   "cell_type": "markdown",
   "metadata": {},
   "source": [
    "Cette méthode renvoie une copie du tableau, en laissant le tableau d'origine inchangé."
   ]
  },
  {
   "cell_type": "code",
   "execution_count": 53,
   "metadata": {},
   "outputs": [
    {
     "name": "stdout",
     "output_type": "stream",
     "text": [
      "[0 1 2 3]\n",
      "[2 3 1 0]\n",
      "[['E' 'a' 'e']\n",
      " ['0' '1' '5']]\n"
     ]
    }
   ],
   "source": [
    "arr = np.array([3, 2, 0, 1])\n",
    "print(np.sort(arr))\n",
    "#indices en sortie\n",
    "print(np.argsort(arr))\n",
    "#2D\n",
    "arr = np.array([['a', 'E', 'e'], [5, 0, 1]])\n",
    "print(np.sort(arr))"
   ]
  },
  {
   "attachments": {},
   "cell_type": "markdown",
   "metadata": {},
   "source": [
    "### Filtre"
   ]
  },
  {
   "attachments": {},
   "cell_type": "markdown",
   "metadata": {},
   "source": [
    "A partir\n",
    "\n",
    "Une liste d' index booléens est une liste de booléens correspondant aux index du tableau.\n",
    "\n",
    "Si la valeur à un index est Trueque cet élément est contenu dans le tableau filtré, \n",
    "\n",
    "si la valeur à cet index est Falsecet élément est exclu du tableau filtré.\n"
   ]
  },
  {
   "cell_type": "code",
   "execution_count": 54,
   "metadata": {},
   "outputs": [
    {
     "name": "stdout",
     "output_type": "stream",
     "text": [
      "[41 43]\n"
     ]
    }
   ],
   "source": [
    "arr = np.array([41, 42, 43, 44])\n",
    "x = [True, False, True, False]\n",
    "newarr = arr[x]\n",
    "print(newarr)"
   ]
  },
  {
   "cell_type": "code",
   "execution_count": 55,
   "metadata": {},
   "outputs": [
    {
     "name": "stdout",
     "output_type": "stream",
     "text": [
      "[41 43]\n"
     ]
    }
   ],
   "source": [
    "#Exemple dynamique\n",
    "x.clear()\n",
    "for a in arr:\n",
    "    if a%2!=0:\n",
    "        x.append(True)\n",
    "    else:\n",
    "        x.append(False)\n",
    "newarr = arr[x]\n",
    "print(newarr)"
   ]
  },
  {
   "cell_type": "code",
   "execution_count": 56,
   "metadata": {},
   "outputs": [
    {
     "name": "stdout",
     "output_type": "stream",
     "text": [
      "[44]\n"
     ]
    }
   ],
   "source": [
    "#liste définie par compréhension\n",
    "x.clear()\n",
    "x=arr>43\n",
    "newarr = arr[x]\n",
    "print(newarr)"
   ]
  },
  {
   "cell_type": "code",
   "execution_count": 57,
   "metadata": {},
   "outputs": [
    {
     "name": "stdout",
     "output_type": "stream",
     "text": [
      "[42 44]\n"
     ]
    }
   ],
   "source": [
    "newarr = arr[arr%2==0]\n",
    "print(newarr)"
   ]
  },
  {
   "attachments": {},
   "cell_type": "markdown",
   "metadata": {},
   "source": [
    "### Fonctions"
   ]
  },
  {
   "cell_type": "code",
   "execution_count": 58,
   "metadata": {},
   "outputs": [
    {
     "name": "stdout",
     "output_type": "stream",
     "text": [
      "[6 8 10 12]\n",
      "[30 32 34 36 38 40]\n"
     ]
    }
   ],
   "source": [
    "def myadd(x, y):\n",
    "  return x+y\n",
    "myadd = np.frompyfunc(myadd, 2, 1)\n",
    "print(myadd([1, 2, 3, 4], [5, 6, 7, 8]))\n",
    "\"\"\"Fonctions systèmes dans Numpy\"\"\"\n",
    "\"\"\"Fonctions arithmétiques\n",
    "opérateurs arithmétiques + - * / mais non conditionnnelless\n",
    "Fonctions arithmétiques acceptent le conditionnnement\"\"\"\n",
    "arr1 = np.array([10, 11, 12, 13, 14, 15])\n",
    "arr2 = np.array([20, 21, 22, 23, 24, 25])\n",
    "newarradd = np.add(arr1, arr2)\n",
    "#ou newarradd=arr1+arr2\n",
    "print(newarradd)"
   ]
  },
  {
   "cell_type": "code",
   "execution_count": 59,
   "metadata": {},
   "outputs": [
    {
     "name": "stdout",
     "output_type": "stream",
     "text": [
      "[-10 -10 -10 -10 -10 -10]\n"
     ]
    }
   ],
   "source": [
    "#newarrsub = np.subtract(arr1, arr2)\n",
    "newarrsub=arr1-arr2\n",
    "print(newarrsub)"
   ]
  },
  {
   "cell_type": "code",
   "execution_count": 60,
   "metadata": {},
   "outputs": [
    {
     "name": "stdout",
     "output_type": "stream",
     "text": [
      "[200 231 264 299 336 375]\n"
     ]
    }
   ],
   "source": [
    "#newarrmult = np.multiply(arr1, arr2)\n",
    "newarrmult = arr1* arr2\n",
    "print(newarrmult)"
   ]
  },
  {
   "cell_type": "code",
   "execution_count": 61,
   "metadata": {},
   "outputs": [
    {
     "name": "stdout",
     "output_type": "stream",
     "text": [
      "[0.5        0.52380952 0.54545455 0.56521739 0.58333333 0.6       ]\n"
     ]
    }
   ],
   "source": [
    "#newarrdiv = np.divide(arr1, arr2)\n",
    "newarrdiv= arr1/ arr2\n",
    "print(newarrdiv)"
   ]
  },
  {
   "cell_type": "code",
   "execution_count": 62,
   "metadata": {},
   "outputs": [
    {
     "name": "stdout",
     "output_type": "stream",
     "text": [
      "[ 1661992960   602408795           0  1487897765  1090519040 -1144744561]\n"
     ]
    }
   ],
   "source": [
    "#newarrpow = np.power(arr1, arr2)\n",
    "newarrpow = arr1**arr2\n",
    "print(newarrpow)"
   ]
  },
  {
   "cell_type": "code",
   "execution_count": 63,
   "metadata": {},
   "outputs": [
    {
     "name": "stdout",
     "output_type": "stream",
     "text": [
      "[10 11 12 13 14 15]\n"
     ]
    }
   ],
   "source": [
    "#newarrmod = np.mod(arr1, arr2)\n",
    "#newarrmod = arr1%arr2\n",
    "newarrmod = np.remainder(arr1, arr2)\n",
    "print(newarrmod)"
   ]
  },
  {
   "cell_type": "code",
   "execution_count": 64,
   "metadata": {},
   "outputs": [
    {
     "name": "stdout",
     "output_type": "stream",
     "text": [
      "(array([0, 0, 0, 0, 0, 0]), array([10, 11, 12, 13, 14, 15]))\n",
      "[41 42 43 44]\n"
     ]
    }
   ],
   "source": [
    "newarrdivmod = np.divmod(arr1, arr2)\n",
    "#newarrdivmod = arr1//arr2\n",
    "print(newarrdivmod)\n",
    "newarrabs = np.absolute(arr)\n",
    "print(newarrabs)"
   ]
  },
  {
   "cell_type": "code",
   "execution_count": 65,
   "metadata": {},
   "outputs": [
    {
     "name": "stdout",
     "output_type": "stream",
     "text": [
      "[-3.  3.]\n",
      "3.17\n"
     ]
    }
   ],
   "source": [
    "#Arrondi\n",
    "#arr = np.trunc([-3.1666, 3.6667])\n",
    "arr = np.fix([-3.1666, 3.6667])\n",
    "print(arr)\n",
    "arr = np.around(3.1666, 2)\n",
    "print(arr)"
   ]
  },
  {
   "cell_type": "code",
   "execution_count": 66,
   "metadata": {},
   "outputs": [
    {
     "name": "stdout",
     "output_type": "stream",
     "text": [
      "[0.         1.         1.5849625  2.         2.32192809 2.5849625\n",
      " 2.80735492 3.         3.169925  ]\n",
      "[0.         0.30103    0.47712125 0.60205999 0.69897    0.77815125\n",
      " 0.84509804 0.90308999 0.95424251]\n",
      "[0.         0.69314718 1.09861229 1.38629436 1.60943791 1.79175947\n",
      " 1.94591015 2.07944154 2.19722458]\n",
      "1.7005483074552052\n"
     ]
    }
   ],
   "source": [
    "#Logarithmique\n",
    "#pour n'importe quelle base, il faut passer par une fonction personnalisée\n",
    "arr = np.arange(1, 10)\n",
    "print(np.log2(arr))\n",
    "print(np.log10(arr))\n",
    "print(np.log(arr))\n",
    "nplog = np.frompyfunc(log, 2, 1)\n",
    "print(nplog(100, 15))"
   ]
  },
  {
   "cell_type": "code",
   "execution_count": 67,
   "metadata": {},
   "outputs": [
    {
     "name": "stdout",
     "output_type": "stream",
     "text": [
      "[2.71828183e+00 7.38905610e+00 2.00855369e+01 5.45981500e+01\n",
      " 1.48413159e+02 4.03428793e+02 1.09663316e+03 2.98095799e+03\n",
      " 8.10308393e+03]\n",
      "[ 1  4  9 16 25 36 49 64 81]\n",
      "[1.         1.41421356 1.73205081 2.         2.23606798 2.44948974\n",
      " 2.64575131 2.82842712 3.        ]\n"
     ]
    }
   ],
   "source": [
    "#Exponenetiel\n",
    "print(np.exp(arr))\n",
    "#Carré\n",
    "print(np.square(arr))\n",
    "#Racine\n",
    "print(np.sqrt(arr))"
   ]
  },
  {
   "cell_type": "code",
   "execution_count": 68,
   "metadata": {},
   "outputs": [
    {
     "name": "stdout",
     "output_type": "stream",
     "text": [
      "[ 75 135]\n",
      "[10 21 33 46 60 75]\n"
     ]
    }
   ],
   "source": [
    "#Somme axiale\n",
    "newarr = np.sum([arr1, arr2], axis=1)\n",
    "print(newarr)\n",
    "#Somme cumulée\n",
    "#La somme cumulative signifie ajouter partiellement les éléments du tableau.\n",
    "#Par exemple, la somme partielle de [1, 2, 3, 4] serait\n",
    "#[1, 1+2, 1+2+3, 1+2+3+4] = [1, 3, 6, 10].\n",
    "newarr = np.cumsum(arr1)\n",
    "print(newarr)"
   ]
  },
  {
   "cell_type": "code",
   "execution_count": 69,
   "metadata": {},
   "outputs": [
    {
     "name": "stdout",
     "output_type": "stream",
     "text": [
      "40320\n"
     ]
    }
   ],
   "source": [
    "#Produit total\n",
    "arr1 = np.array([1, 2, 3, 4])\n",
    "arr2 = np.array([5, 6, 7, 8])\n",
    "x = np.prod([arr1, arr2])\n",
    "print(x)"
   ]
  },
  {
   "cell_type": "code",
   "execution_count": 70,
   "metadata": {},
   "outputs": [
    {
     "name": "stdout",
     "output_type": "stream",
     "text": [
      "[  24 1680]\n"
     ]
    }
   ],
   "source": [
    "#Produit axial\n",
    "newarr = np.prod([arr1, arr2], axis=1)\n",
    "print(newarr)"
   ]
  },
  {
   "cell_type": "code",
   "execution_count": 71,
   "metadata": {},
   "outputs": [
    {
     "name": "stdout",
     "output_type": "stream",
     "text": [
      "[ 1  2  6 24]\n"
     ]
    }
   ],
   "source": [
    "#Produit cumulatif\n",
    "newarr = np.cumprod(arr1)\n",
    "print(newarr)"
   ]
  },
  {
   "cell_type": "code",
   "execution_count": 72,
   "metadata": {},
   "outputs": [
    {
     "name": "stdout",
     "output_type": "stream",
     "text": [
      "[  5  10 -20]\n"
     ]
    }
   ],
   "source": [
    "#Différence discrète\n",
    "#Une différence discrète signifie soustraire deux éléments successifs.\n",
    "#Par exemple, pour [1, 2, 3, 4], la différence discrète serait \n",
    "#[2-1, 3-2, 4-3] = [1, 1, 1]\n",
    "arr = np.array([10, 15, 25, 5])\n",
    "newarr = np.diff(arr)\n",
    "print(newarr)"
   ]
  },
  {
   "cell_type": "code",
   "execution_count": 73,
   "metadata": {},
   "outputs": [
    {
     "name": "stdout",
     "output_type": "stream",
     "text": [
      "12\n"
     ]
    }
   ],
   "source": [
    "#PPCM\n",
    "#pour deux nombres\n",
    "num1 = 4\n",
    "num2 = 6\n",
    "x = np.lcm(num1, num2)\n",
    "print(x)"
   ]
  },
  {
   "cell_type": "code",
   "execution_count": 74,
   "metadata": {},
   "outputs": [
    {
     "name": "stdout",
     "output_type": "stream",
     "text": [
      "18\n"
     ]
    }
   ],
   "source": [
    "#pour tout un tableau\n",
    "#La reduce()méthode utilisera le ufunc, dans ce cas la lcm()fonction, \n",
    "#sur chaque élément, et réduira le tableau d'une dimension.\n",
    "arr = np.array([3, 6, 9])\n",
    "x = np.lcm.reduce(arr)\n",
    "print(x)"
   ]
  },
  {
   "cell_type": "code",
   "execution_count": 75,
   "metadata": {},
   "outputs": [
    {
     "name": "stdout",
     "output_type": "stream",
     "text": [
      "2\n"
     ]
    }
   ],
   "source": [
    "#PGCD\n",
    "#pour deux nombres\n",
    "num1 = 4\n",
    "num2 = 6\n",
    "x = np.gcd(num1, num2)\n",
    "print(x)"
   ]
  },
  {
   "cell_type": "code",
   "execution_count": 76,
   "metadata": {},
   "outputs": [
    {
     "name": "stdout",
     "output_type": "stream",
     "text": [
      "3\n"
     ]
    }
   ],
   "source": [
    "#pour tout un tableau\n",
    "#La reduce()méthode utilisera le ufunc, dans ce cas la gcd()fonction, \n",
    "#sur chaque élément, et réduira le tableau d'une dimension.\n",
    "arr = np.array([3, 6, 9])\n",
    "x = np.gcd.reduce(arr)\n",
    "print(x)"
   ]
  },
  {
   "cell_type": "code",
   "execution_count": 77,
   "metadata": {},
   "outputs": [
    {
     "name": "stdout",
     "output_type": "stream",
     "text": [
      "13.75\n"
     ]
    }
   ],
   "source": [
    "#Moyenne\n",
    "arr = np.array([10, 15, 25, 5])\n",
    "print(np.mean(arr))"
   ]
  },
  {
   "cell_type": "code",
   "execution_count": 78,
   "metadata": {},
   "outputs": [
    {
     "name": "stdout",
     "output_type": "stream",
     "text": [
      "7.39509972887452\n"
     ]
    }
   ],
   "source": [
    "#Déviation standard\n",
    "print(np.std(arr))"
   ]
  },
  {
   "cell_type": "code",
   "execution_count": 79,
   "metadata": {},
   "outputs": [
    {
     "name": "stdout",
     "output_type": "stream",
     "text": [
      "54.6875\n",
      "5\n",
      "25\n"
     ]
    }
   ],
   "source": [
    "#Variance\n",
    "print(np.var(arr))\n",
    "#Minimum\n",
    "print(np.min(arr))\n",
    "#Maximum\n",
    "print(np.max(arr))"
   ]
  },
  {
   "attachments": {},
   "cell_type": "markdown",
   "metadata": {},
   "source": [
    "#### Fonctions géométriques"
   ]
  },
  {
   "cell_type": "code",
   "execution_count": 80,
   "metadata": {},
   "outputs": [
    {
     "name": "stdout",
     "output_type": "stream",
     "text": [
      "1.0\n",
      "[1.         0.8660254  0.70710678 0.58778525]\n",
      "[1.57079633 3.14159265 4.71238898 6.28318531]\n"
     ]
    }
   ],
   "source": [
    "#sur deux nombres\n",
    "x = np.sin(np.pi/2)\n",
    "print(x)\n",
    "#de manière vectorielle\n",
    "arr = np.array([np.pi/2, np.pi/3, np.pi/4, np.pi/5])\n",
    "x = np.sin(arr)\n",
    "print(x)\n",
    "#degrés en radians\n",
    "arr = np.array([90, 180, 270, 360])\n",
    "x = np.deg2rad(arr)\n",
    "print(x)"
   ]
  },
  {
   "attachments": {},
   "cell_type": "markdown",
   "metadata": {},
   "source": [
    "#### Tableaux ensembles"
   ]
  },
  {
   "attachments": {},
   "cell_type": "markdown",
   "metadata": {},
   "source": [
    "Leurs éléments ne seront pas répétés"
   ]
  },
  {
   "cell_type": "code",
   "execution_count": 81,
   "metadata": {},
   "outputs": [
    {
     "name": "stdout",
     "output_type": "stream",
     "text": [
      "[1 2 3 4 5 6 7]\n",
      "[1 2 3 4 5 6]\n",
      "[3 4]\n",
      "[1 2]\n",
      "[1 2 5 6]\n"
     ]
    }
   ],
   "source": [
    "#Création d'un tableau ensemble\n",
    "arr = np.array([1, 1, 1, 2, 3, 4, 5, 5, 6, 7])\n",
    "x = np.unique(arr)\n",
    "print(x)\n",
    "#Union 1d unique\n",
    "arr1 = np.array([1, 2, 3, 4])\n",
    "arr2 = np.array([3, 4, 5, 6])\n",
    "newarr = np.union1d(arr1, arr2)\n",
    "print(newarr)\n",
    "#Intersection unique\n",
    "newarr = np.intersect1d(arr1, arr2, assume_unique=True)\n",
    "print(newarr)\n",
    "#Différence unique\n",
    "newarr = np.setdiff1d(arr1, arr2, assume_unique=True)\n",
    "print(newarr)\n",
    "#Différence symétrique unique\n",
    "newarr = np.setxor1d(arr1, arr2, assume_unique=True)\n",
    "print(newarr)"
   ]
  },
  {
   "attachments": {},
   "cell_type": "markdown",
   "metadata": {},
   "source": [
    "### Brodcasting"
   ]
  },
  {
   "attachments": {},
   "cell_type": "markdown",
   "metadata": {},
   "source": [
    "**What is broadcasting?**\n",
    "\n",
    "La diffusion est une fonctionnalité de numpy qui permet d'effectuer\n",
    "des opérations mathématiques entre des tableaux de formes(shape)\n",
    "différentes.Ceci nous fait gagner en temps et espace, par exemple:\n",
    "\n",
    "Si vous avez une matrice 3x3 (A) et vous voulez ajouter un tableau 1x3\n",
    ",NumPy va ajouter (B) à chaque ligne de (A).\n",
    "\n",
    "\n",
    "Condition nécessaire et suffisante\n",
    "Afin de pouvoir diffuser(étirer), la taille  des axes correspondants(trailing) \n",
    "des deux tableaux doivent être égaux ou l'une d'elle doit être égale à 1.\n",
    "\n",
    "Règles du Broadcasting\n",
    "  * Règle 1 : si les deux tableaux n’ont pas le même nombre de dimensions(shape),\n",
    "on ajoute une dimension à gauche au shape du tableau avec moins \n",
    "de “dimensions” ;\n",
    "  * Règle 2 : si les deux tableaux ont une shape différente pour chaqu'une des\n",
    "dimesions, le tableau avec une dimension égale à 1 est répété pour avoir\n",
    "la même dimension de l’autre tableau ;\n",
    "  * Règle 3 : une erreur est générée si toutes les dimensions des deux tableaux\n",
    "sont différentes de nombres d'éléments(size) et ces derniers sont\n",
    "différentes de 1,"
   ]
  },
  {
   "cell_type": "code",
   "execution_count": 82,
   "metadata": {},
   "outputs": [
    {
     "data": {
      "text/plain": [
       "array([2., 4., 6.])"
      ]
     },
     "execution_count": 82,
     "metadata": {},
     "output_type": "execute_result"
    }
   ],
   "source": [
    "a = np.array([1.0, 2.0, 3.0])\n",
    "b = 2.0\n",
    "a * b"
   ]
  },
  {
   "cell_type": "code",
   "execution_count": 83,
   "metadata": {},
   "outputs": [
    {
     "data": {
      "text/plain": [
       "array([[ 1.,  2.,  3.],\n",
       "       [11., 12., 13.],\n",
       "       [21., 22., 23.],\n",
       "       [31., 32., 33.]])"
      ]
     },
     "execution_count": 83,
     "metadata": {},
     "output_type": "execute_result"
    }
   ],
   "source": [
    "a = np.array([[ 0.0,  0.0,  0.0],\n",
    "              [10.0, 10.0, 10.0],\n",
    "              [20.0, 20.0, 20.0],\n",
    "              [30.0, 30.0, 30.0]])\n",
    "b = np.array([1.0, 2.0, 3.0])\n",
    "a + b"
   ]
  },
  {
   "attachments": {},
   "cell_type": "markdown",
   "metadata": {},
   "source": [
    "### Fonctions d'agrégation"
   ]
  },
  {
   "cell_type": "code",
   "execution_count": 84,
   "metadata": {},
   "outputs": [
    {
     "name": "stdout",
     "output_type": "stream",
     "text": [
      "12\n"
     ]
    }
   ],
   "source": [
    "#Somme totale\n",
    "arr1 = np.array([1, 2, 3])\n",
    "arr2 = np.array([1, 2, 3])\n",
    "newarr = np.sum([arr1, arr2])\n",
    "print(newarr)"
   ]
  },
  {
   "cell_type": "code",
   "execution_count": 85,
   "metadata": {},
   "outputs": [
    {
     "name": "stdout",
     "output_type": "stream",
     "text": [
      "[6 6]\n"
     ]
    }
   ],
   "source": [
    "#Somme axiale\n",
    "newarr = np.sum([arr1, arr2], axis=1)\n",
    "print(newarr)"
   ]
  },
  {
   "cell_type": "code",
   "execution_count": 86,
   "metadata": {},
   "outputs": [
    {
     "name": "stdout",
     "output_type": "stream",
     "text": [
      "[1 3 6]\n"
     ]
    }
   ],
   "source": [
    "#Somme cumulée\n",
    "#La somme cumulative signifie ajouter partiellement les éléments du tableau.\n",
    "#Par exemple, la somme partielle de [1, 2, 3, 4] serait\n",
    "#[1, 1+2, 1+2+3, 1+2+3+4] = [1, 3, 6, 10].\n",
    "newarr = np.cumsum(arr1)\n",
    "print(newarr)"
   ]
  },
  {
   "cell_type": "code",
   "execution_count": 87,
   "metadata": {},
   "outputs": [
    {
     "name": "stdout",
     "output_type": "stream",
     "text": [
      "40320\n"
     ]
    }
   ],
   "source": [
    "#Produit total\n",
    "arr1 = np.array([1, 2, 3, 4])\n",
    "arr2 = np.array([5, 6, 7, 8])\n",
    "x = np.prod([arr1, arr2])\n",
    "print(x)"
   ]
  },
  {
   "cell_type": "code",
   "execution_count": 88,
   "metadata": {},
   "outputs": [
    {
     "name": "stdout",
     "output_type": "stream",
     "text": [
      "[  24 1680]\n"
     ]
    }
   ],
   "source": [
    "#Produit axial\n",
    "newarr = np.prod([arr1, arr2], axis=1)\n",
    "print(newarr)"
   ]
  },
  {
   "cell_type": "code",
   "execution_count": 89,
   "metadata": {},
   "outputs": [
    {
     "name": "stdout",
     "output_type": "stream",
     "text": [
      "[ 1  2  6 24]\n"
     ]
    }
   ],
   "source": [
    "#Produit cumulatif\n",
    "newarr = np.cumprod(arr1)\n",
    "print(newarr)"
   ]
  },
  {
   "cell_type": "code",
   "execution_count": 90,
   "metadata": {},
   "outputs": [
    {
     "name": "stdout",
     "output_type": "stream",
     "text": [
      "[  5  10 -20]\n"
     ]
    }
   ],
   "source": [
    "#Différence discrète\n",
    "#Une différence discrète signifie soustraire deux éléments successifs.\n",
    "#Par exemple, pour [1, 2, 3, 4], la différence discrète serait \n",
    "#[2-1, 3-2, 4-3] = [1, 1, 1]\n",
    "arr = np.array([10, 15, 25, 5])\n",
    "newarr = np.diff(arr)\n",
    "print(newarr)"
   ]
  },
  {
   "cell_type": "code",
   "execution_count": 91,
   "metadata": {},
   "outputs": [
    {
     "name": "stdout",
     "output_type": "stream",
     "text": [
      "12\n",
      "18\n",
      "2\n",
      "3\n",
      "13.75\n",
      "7.39509972887452\n",
      "54.6875\n",
      "5\n",
      "25\n"
     ]
    }
   ],
   "source": [
    "#PPCM\n",
    "#pour deux nombres\n",
    "num1 = 4\n",
    "num2 = 6\n",
    "x = np.lcm(num1, num2)\n",
    "print(x)\n",
    "#pour tout un tableau\n",
    "#La reduce()méthode utilisera le ufunc, dans ce cas la lcm()fonction, \n",
    "#sur chaque élément, et réduira le tableau d'une dimension.\n",
    "arr = np.array([3, 6, 9])\n",
    "x = np.lcm.reduce(arr)\n",
    "print(x)\n",
    "#PGCD\n",
    "#pour deux nombres\n",
    "num1 = 4\n",
    "num2 = 6\n",
    "x = np.gcd(num1, num2)\n",
    "print(x)\n",
    "#pour tout un tableau\n",
    "#La reduce()méthode utilisera le ufunc, dans ce cas la gcd()fonction, \n",
    "arr = np.array([3, 6, 9])\n",
    "x = np.gcd.reduce(arr)\n",
    "print(x)\n",
    "#Moyenne\n",
    "arr = np.array([10, 15, 25, 5])\n",
    "print(np.mean(arr))\n",
    "#Déviation standard\n",
    "print(np.std(arr))\n",
    "#Variance\n",
    "print(np.var(arr))\n",
    "#Minimum\n",
    "print(np.min(arr))\n",
    "#Maximum\n",
    "print(np.max(arr))"
   ]
  },
  {
   "cell_type": "code",
   "execution_count": 92,
   "metadata": {},
   "outputs": [
    {
     "name": "stdout",
     "output_type": "stream",
     "text": [
      "0\n",
      "3\n"
     ]
    }
   ],
   "source": [
    "a = np.array([[np.nan, 55], [21, 13]])\n",
    "b=np.array([[8, 4], [2, 1]])\n",
    "#Retourne indice du min\n",
    "print(np.argmin(a))\n",
    "print(np.argmin(b))"
   ]
  },
  {
   "cell_type": "code",
   "execution_count": 93,
   "metadata": {},
   "outputs": [
    {
     "name": "stdout",
     "output_type": "stream",
     "text": [
      "3\n",
      "3\n"
     ]
    }
   ],
   "source": [
    "#Retourne indice du min : ne prend pas nan en considération.\n",
    "print(np.nanargmin(a))\n",
    "print(np.nanargmin(b))"
   ]
  },
  {
   "cell_type": "code",
   "execution_count": 94,
   "metadata": {},
   "outputs": [
    {
     "name": "stdout",
     "output_type": "stream",
     "text": [
      "0 0\n",
      "1 0\n"
     ]
    }
   ],
   "source": [
    "a = np.array([[np.nan, 55], [21, 13]])\n",
    "b=np.array([[8, 4], [2, 1]])\n",
    "#Retourne indice du max\n",
    "#np.argmax si nan existe retourne l'indice de nan sinon celui du maximum\n",
    "print(np.argmax(a),np.argmax(b)) \n",
    "#np.nanargmax ne prend pas nan en considération retourne l'indice du maximum.\n",
    "print(np.nanargmax(a),np.nanargmax(b))"
   ]
  },
  {
   "cell_type": "code",
   "execution_count": 95,
   "metadata": {},
   "outputs": [
    {
     "name": "stdout",
     "output_type": "stream",
     "text": [
      "nan 3.0\n",
      "21.0 3.0\n"
     ]
    }
   ],
   "source": [
    "#Retourne median\n",
    "#np.median si nan existe retourne nan\n",
    "print(np.median(a),np.median(b)) \n",
    "#np.nanargmax ne prend pas nan en considération comme il n'existe pas.\n",
    "print(np.nanmedian(a),np.nanmedian(b))"
   ]
  },
  {
   "cell_type": "code",
   "execution_count": 96,
   "metadata": {},
   "outputs": [
    {
     "name": "stdout",
     "output_type": "stream",
     "text": [
      "[1.57079633 3.14159265 4.71238898 6.28318531]\n"
     ]
    }
   ],
   "source": [
    "\"\"\"Fonctions géométriques\"\"\"\n",
    "#degrés en radians\n",
    "arr = np.array([90, 180, 270, 360])\n",
    "x = np.deg2rad(arr)\n",
    "print(x)\n"
   ]
  },
  {
   "cell_type": "code",
   "execution_count": 97,
   "metadata": {},
   "outputs": [
    {
     "name": "stdout",
     "output_type": "stream",
     "text": [
      "[1 2 3 4 5 6 7]\n"
     ]
    }
   ],
   "source": [
    "\"\"\"Tableaux ensembles\n",
    "Leurs éléments ne seront pas répétés\"\"\"\n",
    "#Création d'un tableau ensemble\n",
    "arr = np.array([1, 1, 1, 2, 3, 4, 5, 5, 6, 7])\n",
    "x = np.unique(arr)\n",
    "print(x)"
   ]
  },
  {
   "cell_type": "code",
   "execution_count": 98,
   "metadata": {},
   "outputs": [
    {
     "name": "stdout",
     "output_type": "stream",
     "text": [
      "[1 2 3 4 5 6]\n",
      "[3 4]\n",
      "[1 2]\n",
      "[1 2 5 6]\n"
     ]
    }
   ],
   "source": [
    "#Union 1d unique\n",
    "arr1 = np.array([1, 2, 3, 4])\n",
    "arr2 = np.array([3, 4, 5, 6])\n",
    "newarr = np.union1d(arr1, arr2)\n",
    "print(newarr)\n",
    "#Intersection unique\n",
    "newarr = np.intersect1d(arr1, arr2, assume_unique=True)\n",
    "print(newarr)\n",
    "#Différence unique\n",
    "newarr = np.setdiff1d(arr1, arr2, assume_unique=True)\n",
    "print(newarr)\n",
    "#Différence symétrique unique\n",
    "newarr = np.setxor1d(arr1, arr2, assume_unique=True)\n",
    "print(newarr)"
   ]
  },
  {
   "attachments": {},
   "cell_type": "markdown",
   "metadata": {},
   "source": [
    "# *FIN*"
   ]
  }
 ],
 "metadata": {
  "kernelspec": {
   "display_name": "Python 3.10.2 64-bit",
   "language": "python",
   "name": "python3"
  },
  "language_info": {
   "codemirror_mode": {
    "name": "ipython",
    "version": 3
   },
   "file_extension": ".py",
   "mimetype": "text/x-python",
   "name": "python",
   "nbconvert_exporter": "python",
   "pygments_lexer": "ipython3",
   "version": "3.10.2"
  },
  "orig_nbformat": 4,
  "vscode": {
   "interpreter": {
    "hash": "26de051ba29f2982a8de78e945f0abaf191376122a1563185a90213a26c5da77"
   }
  }
 },
 "nbformat": 4,
 "nbformat_minor": 2
}
